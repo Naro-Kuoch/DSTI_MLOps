{
 "cells": [
  {
   "cell_type": "code",
   "execution_count": 2,
   "metadata": {},
   "outputs": [
    {
     "name": "stdout",
     "output_type": "stream",
     "text": [
      "     fixed acidity volatile acidity citric acid residual sugar chlorides  \\\n",
      "0              7.4              0.7           0            1.9     0.076   \n",
      "1              7.8             0.88           0            2.6     0.098   \n",
      "2              7.8             0.76        0.04            2.3     0.092   \n",
      "3             11.2             0.28        0.56            1.9     0.075   \n",
      "4              7.4              0.7           0            1.9     0.076   \n",
      "...            ...              ...         ...            ...       ...   \n",
      "3194           6.2              0.6        0.08              2      0.09   \n",
      "3195           5.9             0.55         0.1            2.2     0.062   \n",
      "3196           6.3             0.51        0.13            2.3     0.076   \n",
      "3197           5.9            0.645        0.12              2     0.075   \n",
      "3198             6             0.31        0.47            3.6     0.067   \n",
      "\n",
      "     free sulfur dioxide total sulfur dioxide  density    pH sulphates  \\\n",
      "0                     11                   34   0.9978  3.51      0.56   \n",
      "1                     25                   67   0.9968   3.2      0.68   \n",
      "2                     15                   54    0.997  3.26      0.65   \n",
      "3                     17                   60    0.998  3.16      0.58   \n",
      "4                     11                   34   0.9978  3.51      0.56   \n",
      "...                  ...                  ...      ...   ...       ...   \n",
      "3194                  32                   44   0.9949  3.45      0.58   \n",
      "3195                  39                   51  0.99512  3.52      0.76   \n",
      "3196                  29                   40  0.99574  3.42      0.75   \n",
      "3197                  32                   44  0.99547  3.57      0.71   \n",
      "3198                  18                   42  0.99549  3.39      0.66   \n",
      "\n",
      "     alcohol quality  \n",
      "0        9.4       5  \n",
      "1        9.8       5  \n",
      "2        9.8       5  \n",
      "3        9.8       6  \n",
      "4        9.4       5  \n",
      "...      ...     ...  \n",
      "3194    10.5       5  \n",
      "3195    11.2       6  \n",
      "3196      11       6  \n",
      "3197    10.2       5  \n",
      "3198      11       6  \n",
      "\n",
      "[3199 rows x 12 columns]\n"
     ]
    }
   ],
   "source": [
    "# Get url from DVC\n",
    "import pandas as pd\n",
    "import dvc.api\n",
    "\n",
    "path='data/wine_original.csv'\n",
    "repo='./'\n",
    "commit_hash = 'v1'\n",
    "\n",
    "data_url = dvc.api.get_url(\n",
    "  path=path,\n",
    "  repo=repo,\n",
    "  rev = commit_hash\n",
    "  )\n",
    "\n",
    "data = pd.read_csv(data_url, sep=\";\")\n",
    "print(data)\n"
   ]
  },
  {
   "cell_type": "code",
   "execution_count": null,
   "metadata": {},
   "outputs": [],
   "source": []
  }
 ],
 "metadata": {
  "kernelspec": {
   "display_name": "mlops",
   "language": "python",
   "name": "python3"
  },
  "language_info": {
   "codemirror_mode": {
    "name": "ipython",
    "version": 3
   },
   "file_extension": ".py",
   "mimetype": "text/x-python",
   "name": "python",
   "nbconvert_exporter": "python",
   "pygments_lexer": "ipython3",
   "version": "3.13.2"
  }
 },
 "nbformat": 4,
 "nbformat_minor": 2
}
